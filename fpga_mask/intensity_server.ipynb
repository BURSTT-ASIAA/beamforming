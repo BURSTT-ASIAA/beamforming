{
 "cells": [
  {
   "cell_type": "code",
   "execution_count": 1,
   "id": "76a0e736",
   "metadata": {},
   "outputs": [],
   "source": [
    "import numpy as np\n",
    "from ctypes import *\n",
    "import socket\n",
    "#import errno\n",
    "import time"
   ]
  },
  {
   "cell_type": "code",
   "execution_count": 2,
   "id": "cfb1107c",
   "metadata": {},
   "outputs": [],
   "source": [
    "NBUF = 32\n",
    "BLK_SIZE = 1024*16*1000\n",
    "DATA_SIZE = BLK_SIZE * NBUF\n",
    "HOST = '0.0.0.0'\n",
    "PORT = 5000\n",
    "FPGA_BLK_SZ = (8192 + 64) * 800000\n",
    "FPGA_BLK_NB = 30\n",
    "FPGA_SIZE = 2**30*185\n",
    "FPGA_DATA_SIZE = FPGA_BLK_SZ * FPGA_BLK_NB\n",
    "MASK_BLK_SZ = 100000\n",
    "\n",
    "intensity = np.memmap('/dev/hugepages/fpga0.bin', dtype='i2', shape=(DATA_SIZE))\n",
    "blk_ptr = cast(c_void_p(intensity.ctypes.data + DATA_SIZE * 2), POINTER(c_long))\n",
    "\n",
    "clk_counter = np.zeros(8, dtype='u1')\n",
    "fpga_data = np.memmap('/mnt/fpga0', dtype='u1', shape=(FPGA_SIZE))\n",
    "\n",
    "def cvt_counter(data):\n",
    "    clk_counter[:5] = data\n",
    "    return clk_counter.view(dtype='u8')[0]"
   ]
  },
  {
   "cell_type": "code",
   "execution_count": null,
   "id": "271c24b5",
   "metadata": {
    "scrolled": false
   },
   "outputs": [
    {
     "name": "stdout",
     "output_type": "stream",
     "text": [
      "Connected by ('127.0.0.1', 57282)\n",
      "Block #30 sent, header id= 7, counter=[ 11  54 215 217 118]:510460900875\n",
      "Connection closed for ('127.0.0.1', 57282)\n",
      "Connected by ('127.0.0.1', 57356)\n",
      "Block #4 sent, header id= 15, counter=[ 13  20 167 219 118]:510491300877\n",
      "Block #5 sent, header id= 16, counter=[ 13  73 179 219 118]:510492100877\n",
      "Block #6 sent, header id= 17, counter=[ 13 126 191 219 118]:510492900877\n",
      "Block #7 sent, header id= 18, counter=[ 13 179 203 219 118]:510493700877\n",
      "Block #8 sent, header id= 19, counter=[ 13 232 215 219 118]:510494500877\n",
      "Block #9 sent, header id= 20, counter=[ 13  29 228 219 118]:510495300877\n",
      "Block #10 sent, header id= 21, counter=[ 13  82 240 219 118]:510496100877\n",
      "Block #11 sent, header id= 22, counter=[ 13 135 252 219 118]:510496900877\n",
      "Block #12 sent, header id= 23, counter=[ 13 188   8 220 118]:510497700877\n",
      "Block #13 sent, header id= 24, counter=[ 13 241  20 220 118]:510498500877\n",
      "Block #14 sent, header id= 25, counter=[ 13  38  33 220 118]:510499300877\n",
      "Block #15 sent, header id= 26, counter=[ 13  91  45 220 118]:510500100877\n",
      "Block #16 sent, header id= 27, counter=[ 13 144  57 220 118]:510500900877\n",
      "Block #17 sent, header id= 28, counter=[ 13 197  69 220 118]:510501700877\n",
      "Block #18 sent, header id= 29, counter=[ 13 250  81 220 118]:510502500877\n",
      "Block #19 sent, header id= 0, counter=[ 15  47  94 220 118]:510503300879\n",
      "Block #20 sent, header id= 1, counter=[ 15 100 106 220 118]:510504100879\n",
      "Block #21 sent, header id= 2, counter=[ 15 153 118 220 118]:510504900879\n",
      "Block #22 sent, header id= 3, counter=[ 15 206 130 220 118]:510505700879\n",
      "Block #23 sent, header id= 4, counter=[ 15   3 143 220 118]:510506500879\n",
      "Block #24 sent, header id= 5, counter=[ 15  56 155 220 118]:510507300879\n",
      "Block #25 sent, header id= 6, counter=[ 15 109 167 220 118]:510508100879\n",
      "Block #26 sent, header id= 7, counter=[ 15 162 179 220 118]:510508900879\n",
      "Block #27 sent, header id= 8, counter=[ 15 215 191 220 118]:510509700879\n",
      "Block #28 sent, header id= 9, counter=[ 15  12 204 220 118]:510510500879\n",
      "Block #29 sent, header id= 10, counter=[ 15  65 216 220 118]:510511300879\n",
      "Block #30 sent, header id= 11, counter=[ 15 118 228 220 118]:510512100879\n",
      "Block #31 sent, header id= 12, counter=[ 15 171 240 220 118]:510512900879\n",
      "Block #0 sent, header id= 13, counter=[ 15 224 252 220 118]:510513700879\n",
      "Block #1 sent, header id= 14, counter=[ 15  21   9 221 118]:510514500879\n",
      "Block #2 sent, header id= 15, counter=[ 15  74  21 221 118]:510515300879\n",
      "Block #3 sent, header id= 16, counter=[ 15 127  33 221 118]:510516100879\n",
      "Connection closed for ('127.0.0.1', 57356)\n"
     ]
    }
   ],
   "source": [
    "with socket.socket(socket.AF_INET, socket.SOCK_STREAM) as s:\n",
    "    s.bind((HOST, PORT))\n",
    "    s.listen(1)\n",
    "\n",
    "    while True:\n",
    "        conn, addr = s.accept()\n",
    "        print('Connected by', addr)\n",
    "\n",
    "        last_blk = blk_ptr[0]\n",
    "        while True:\n",
    "            while last_blk == blk_ptr[0]:\n",
    "                time.sleep(0.01)\n",
    "\n",
    "            data = intensity[BLK_SIZE*last_blk:BLK_SIZE*(last_blk+1)]\n",
    "            hdr_id = blk_ptr[last_blk + 1]\n",
    "            p = FPGA_BLK_SZ * hdr_id\n",
    "            try:\n",
    "                conn.sendall(fpga_data[p:p+64])\n",
    "                conn.sendall(data)\n",
    "            except socket.error as e:\n",
    "#                if e.errno != errno.ECONNRESET:\n",
    "#                    raise\n",
    "                print('Connection closed for', addr)\n",
    "                break\n",
    "\n",
    "            print(f'Block #{last_blk} sent, header id= {hdr_id}, counter={fpga_data[p:p+5]}:{cvt_counter(fpga_data[p:p+5])}')\n",
    "            last_blk = (last_blk + 1) % NBUF"
   ]
  },
  {
   "cell_type": "code",
   "execution_count": null,
   "id": "d5ca7936",
   "metadata": {},
   "outputs": [],
   "source": []
  },
  {
   "cell_type": "code",
   "execution_count": null,
   "id": "74fe177e",
   "metadata": {},
   "outputs": [],
   "source": [
    "fpga_data[:64]"
   ]
  },
  {
   "cell_type": "code",
   "execution_count": null,
   "id": "7806e236",
   "metadata": {
    "scrolled": true
   },
   "outputs": [],
   "source": [
    "for n in range(16):\n",
    "    p = (8192 + 64) * 0 + FPGA_BLK_SZ * n\n",
    "    print(n, cvt_counter(fpga_data[p:p+5]), fpga_data[p:p+5], fpga_data[p+8:p+13], fpga_data[p+55:p+64].tobytes())"
   ]
  },
  {
   "cell_type": "code",
   "execution_count": null,
   "id": "48cb8a91",
   "metadata": {},
   "outputs": [],
   "source": []
  },
  {
   "cell_type": "code",
   "execution_count": null,
   "id": "0d89c269",
   "metadata": {},
   "outputs": [],
   "source": [
    "vhex = np.vectorize(hex)"
   ]
  },
  {
   "cell_type": "code",
   "execution_count": null,
   "id": "25cecf6a",
   "metadata": {
    "scrolled": true
   },
   "outputs": [],
   "source": [
    "for m in range(10):\n",
    "#    for n in range(FPGA_BLK_NB):\n",
    "    for n in range(1,2):\n",
    "        p = FPGA_DATA_SIZE + MASK_BLK_SZ * n\n",
    "        q = FPGA_DATA_SIZE + MASK_BLK_SZ * (n + 1) - 16\n",
    "        print(m, n, fpga_data[p:p+16], fpga_data[q:q+16])\n",
    "    time.sleep(0.1)"
   ]
  },
  {
   "cell_type": "code",
   "execution_count": null,
   "id": "b82803e1",
   "metadata": {
    "scrolled": true
   },
   "outputs": [],
   "source": [
    "mask_ptr = cast(c_void_p(fpga_data.ctypes.data + FPGA_DATA_SIZE), POINTER(c_char))"
   ]
  },
  {
   "cell_type": "code",
   "execution_count": null,
   "id": "c03f223c",
   "metadata": {
    "scrolled": true
   },
   "outputs": [],
   "source": [
    "for n in range(30):\n",
    "    p = MASK_BLK_SZ * n\n",
    "    print(np.frombuffer(mask_ptr[p:p+128], dtype='u1'))"
   ]
  },
  {
   "cell_type": "code",
   "execution_count": null,
   "id": "f29dcd87",
   "metadata": {
    "scrolled": false
   },
   "outputs": [],
   "source": [
    "p = MASK_BLK_SZ * 4\n",
    "vhex(np.frombuffer(mask_ptr[p:p+512], dtype='u8'))"
   ]
  },
  {
   "cell_type": "code",
   "execution_count": null,
   "id": "71090ee5",
   "metadata": {},
   "outputs": [],
   "source": []
  },
  {
   "cell_type": "code",
   "execution_count": null,
   "id": "f516f75b",
   "metadata": {},
   "outputs": [],
   "source": [
    "counts = bytes(bin(x).count(\"1\") for x in range(256))"
   ]
  },
  {
   "cell_type": "code",
   "execution_count": null,
   "id": "99b6683f",
   "metadata": {},
   "outputs": [],
   "source": [
    "counts[int.from_bytes(mask_ptr[0], 'little')]"
   ]
  },
  {
   "cell_type": "code",
   "execution_count": null,
   "id": "383e03b3",
   "metadata": {},
   "outputs": [],
   "source": [
    "nz = 0\n",
    "\n",
    "for p in range(MASK_BLK_SZ * 4, MASK_BLK_SZ * 5):\n",
    "    nz += counts[int.from_bytes(mask_ptr[p], 'little')]\n",
    "\n",
    "nz, MASK_BLK_SZ * 8"
   ]
  },
  {
   "cell_type": "code",
   "execution_count": null,
   "id": "8470f921",
   "metadata": {},
   "outputs": [],
   "source": [
    "blk_ptr[:16]"
   ]
  },
  {
   "cell_type": "code",
   "execution_count": null,
   "id": "51bb711b",
   "metadata": {},
   "outputs": [],
   "source": [
    "hdr_id"
   ]
  },
  {
   "cell_type": "code",
   "execution_count": null,
   "id": "531615be",
   "metadata": {},
   "outputs": [],
   "source": []
  }
 ],
 "metadata": {
  "kernelspec": {
   "display_name": "Python 3",
   "language": "python",
   "name": "python3"
  },
  "language_info": {
   "codemirror_mode": {
    "name": "ipython",
    "version": 3
   },
   "file_extension": ".py",
   "mimetype": "text/x-python",
   "name": "python",
   "nbconvert_exporter": "python",
   "pygments_lexer": "ipython3",
   "version": "3.6.8"
  }
 },
 "nbformat": 4,
 "nbformat_minor": 5
}
