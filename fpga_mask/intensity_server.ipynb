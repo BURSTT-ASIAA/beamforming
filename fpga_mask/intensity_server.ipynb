{
 "cells": [
  {
   "cell_type": "code",
   "execution_count": null,
   "id": "76a0e736",
   "metadata": {},
   "outputs": [],
   "source": [
    "import numpy as np\n",
    "from ctypes import *\n",
    "import socket\n",
    "import errno"
   ]
  },
  {
   "cell_type": "code",
   "execution_count": null,
   "id": "cfb1107c",
   "metadata": {},
   "outputs": [],
   "source": [
    "NBUF = 16\n",
    "BLK_SIZE = 1024*16*1000\n",
    "DATA_SIZE = BLK_SIZE * NBUF\n",
    "HOST = 'localhost'\n",
    "PORT = 5001\n",
    "NBLK = 16\n",
    "\n",
    "intensity = np.memmap('/dev/hugepages/fpga0.bin', dtype='float32', shape=(DATA_SIZE))\n",
    "intensity.shape\n",
    "\n",
    "blk_ptr = cast(c_void_p(intensity.ctypes.data + DATA_SIZE * 4), POINTER(c_long))"
   ]
  },
  {
   "cell_type": "code",
   "execution_count": null,
   "id": "54784141",
   "metadata": {},
   "outputs": [],
   "source": [
    "with socket.socket(socket.AF_INET, socket.SOCK_STREAM) as s:\n",
    "    s.bind((HOST, PORT))\n",
    "    s.listen(1)\n",
    "\n",
    "    n = 0\n",
    "    while True:\n",
    "        conn, addr = s.accept()\n",
    "        print('Connected by', addr)\n",
    "\n",
    "        while True:\n",
    "            data = intensity[BLK_SIZE*n:BLK_SIZE*(n+1)]\n",
    "            try:\n",
    "                conn.sendall(data)\n",
    "            except socket.error as e:\n",
    "                if e.errno != errno.ECONNRESET:\n",
    "                    raise\n",
    "                print('Connection closed for', addr)\n",
    "                break\n",
    "\n",
    "            print(f'Block #{n} sent')\n",
    "            n = (n + 1) % NBUF"
   ]
  },
  {
   "cell_type": "code",
   "execution_count": null,
   "id": "93e55e29",
   "metadata": {},
   "outputs": [],
   "source": []
  },
  {
   "cell_type": "code",
   "execution_count": null,
   "id": "709345f0",
   "metadata": {},
   "outputs": [],
   "source": [
    "blk_ptr.contents.value"
   ]
  },
  {
   "cell_type": "code",
   "execution_count": null,
   "id": "4bf3e473",
   "metadata": {},
   "outputs": [],
   "source": []
  },
  {
   "cell_type": "code",
   "execution_count": null,
   "id": "bfde58be",
   "metadata": {},
   "outputs": [],
   "source": [
    "last_blk = blk_ptr.contents.value\n",
    "\n",
    "while (True):\n",
    "    new_blk = blk_ptr.contents.value\n",
    "    if (new_blk != last_blk):\n",
    "        intensity[blk_size*last_blk:blk_size*(last_blk+1)]\n",
    "\n",
    "        last_blk += 1\n",
    "        if (last_blk >= nbuf):\n",
    "            last_blk = 0\n",
    "\n",
    "\n"
   ]
  },
  {
   "cell_type": "code",
   "execution_count": null,
   "id": "41826fb2",
   "metadata": {},
   "outputs": [],
   "source": []
  },
  {
   "cell_type": "code",
   "execution_count": null,
   "id": "5e1e7c98",
   "metadata": {},
   "outputs": [],
   "source": []
  },
  {
   "cell_type": "code",
   "execution_count": null,
   "id": "49864a25",
   "metadata": {},
   "outputs": [],
   "source": [
    "libc = CDLL(\"libc.so.6\")"
   ]
  },
  {
   "cell_type": "code",
   "execution_count": null,
   "id": "23e1d8f8",
   "metadata": {},
   "outputs": [],
   "source": [
    "libc.time()"
   ]
  },
  {
   "cell_type": "code",
   "execution_count": null,
   "id": "27ebc463",
   "metadata": {},
   "outputs": [],
   "source": []
  },
  {
   "cell_type": "code",
   "execution_count": null,
   "id": "6f645811",
   "metadata": {},
   "outputs": [],
   "source": [
    "while (True):\n",
    "    pass"
   ]
  },
  {
   "cell_type": "code",
   "execution_count": null,
   "id": "2a26425e",
   "metadata": {},
   "outputs": [],
   "source": []
  }
 ],
 "metadata": {
  "kernelspec": {
   "display_name": "Python 3",
   "language": "python",
   "name": "python3"
  },
  "language_info": {
   "codemirror_mode": {
    "name": "ipython",
    "version": 3
   },
   "file_extension": ".py",
   "mimetype": "text/x-python",
   "name": "python",
   "nbconvert_exporter": "python",
   "pygments_lexer": "ipython3",
   "version": "3.6.8"
  }
 },
 "nbformat": 4,
 "nbformat_minor": 5
}
