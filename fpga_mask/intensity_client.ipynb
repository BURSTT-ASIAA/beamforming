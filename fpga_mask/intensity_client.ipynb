{
 "cells": [
  {
   "cell_type": "code",
   "execution_count": null,
   "id": "d247accf",
   "metadata": {},
   "outputs": [],
   "source": [
    "import socket\n",
    "import numpy as np\n",
    "import time"
   ]
  },
  {
   "cell_type": "code",
   "execution_count": null,
   "id": "c1996985",
   "metadata": {},
   "outputs": [],
   "source": [
    "HOST = 'localhost'\n",
    "PORT = 5000\n",
    "BLK_SIZE = 1024*16*1000\n",
    "NBLK = 16\n",
    "HDR_SIZE = 64\n",
    "\n",
    "header = bytearray(HDR_SIZE)\n",
    "buffer = bytearray(BLK_SIZE*4)\n",
    "data = np.empty((1000*NBLK, 1024, 16), dtype='float32')\n",
    "\n",
    "def readBlock(s):\n",
    "    recv_size = s.recv_into(memoryview(header), HDR_SIZE)\n",
    "    if recv_size != 64:\n",
    "        print(f'Error receiving header, size={recv_size}')\n",
    "        raise\n",
    "\n",
    "    view = memoryview(buffer)\n",
    "    next_offset = 0\n",
    "    while BLK_SIZE*4 - next_offset > 0:\n",
    "        recv_size = s.recv_into(view[next_offset:], BLK_SIZE*4 - next_offset)\n",
    "        next_offset += recv_size\n",
    "#        print(f'receive {recv_size} bytes')"
   ]
  },
  {
   "cell_type": "code",
   "execution_count": null,
   "id": "f147fb9f",
   "metadata": {},
   "outputs": [],
   "source": [
    "with socket.socket(socket.AF_INET, socket.SOCK_STREAM) as s:\n",
    "    s.connect((HOST, PORT))\n",
    "\n",
    "    start = time.time()\n",
    "    for n in range(NBLK):\n",
    "        readBlock(s)\n",
    "        data[n*1000:(n+1)*1000,:,:] = np.frombuffer(buffer, dtype='float32').reshape((1000, 1024, 16))\n",
    "        print(f'received #{n} block, counter={header[:8].hex()}')\n",
    "    end = time.time()\n",
    "\n",
    "print(f'number of blocks: {NBLK},  time per block: {(end - start) / NBLK}s')\n",
    "print(f'transfer rate: {NBLK*BLK_SIZE*4 / (end - start) * 10**(-9)} GB/s')"
   ]
  },
  {
   "cell_type": "code",
   "execution_count": null,
   "id": "2d52086f",
   "metadata": {},
   "outputs": [],
   "source": [
    "header.hex()"
   ]
  },
  {
   "cell_type": "code",
   "execution_count": null,
   "id": "8ba6bf0e",
   "metadata": {},
   "outputs": [],
   "source": [
    "header[:5].hex()"
   ]
  },
  {
   "cell_type": "code",
   "execution_count": null,
   "id": "46dcc3af",
   "metadata": {},
   "outputs": [],
   "source": []
  },
  {
   "cell_type": "code",
   "execution_count": null,
   "id": "637a1f76",
   "metadata": {},
   "outputs": [],
   "source": []
  }
 ],
 "metadata": {
  "kernelspec": {
   "display_name": "Python 3",
   "language": "python",
   "name": "python3"
  },
  "language_info": {
   "codemirror_mode": {
    "name": "ipython",
    "version": 3
   },
   "file_extension": ".py",
   "mimetype": "text/x-python",
   "name": "python",
   "nbconvert_exporter": "python",
   "pygments_lexer": "ipython3",
   "version": "3.6.8"
  }
 },
 "nbformat": 4,
 "nbformat_minor": 5
}
