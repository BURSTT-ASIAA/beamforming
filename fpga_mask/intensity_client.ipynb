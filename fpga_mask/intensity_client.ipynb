{
 "cells": [
  {
   "cell_type": "code",
   "execution_count": 1,
   "id": "d247accf",
   "metadata": {},
   "outputs": [],
   "source": [
    "import socket\n",
    "import numpy as np\n",
    "import time"
   ]
  },
  {
   "cell_type": "code",
   "execution_count": 2,
   "id": "c1996985",
   "metadata": {},
   "outputs": [],
   "source": [
    "HOST = 'localhost'\n",
    "PORT = 5000\n",
    "BLK_SIZE = 1024*16*1000\n",
    "NBLK = 32\n",
    "HDR_SIZE = 64\n",
    "\n",
    "header = bytearray(HDR_SIZE)\n",
    "buffer = bytearray(BLK_SIZE*2)\n",
    "buffer2 = bytearray(BLK_SIZE*4)\n",
    "arr = np.frombuffer(buffer, dtype='i2')\n",
    "arr2 = np.frombuffer(buffer2, dtype='i2')\n",
    "arr2[:] = 0\n",
    "data = np.empty((1000*NBLK, 1024, 16), dtype='float32')\n",
    "\n",
    "def readBlock(s):\n",
    "    recv_size = s.recv_into(memoryview(header), HDR_SIZE)\n",
    "    if recv_size != 64:\n",
    "        print(f'Error receiving header, size={recv_size}')\n",
    "        raise\n",
    "\n",
    "    view = memoryview(buffer)\n",
    "    next_offset = 0\n",
    "    while BLK_SIZE*2 - next_offset > 0:\n",
    "        recv_size = s.recv_into(view[next_offset:], BLK_SIZE*2 - next_offset)\n",
    "        next_offset += recv_size\n",
    "#        print(f'receive {recv_size} bytes')\n",
    "\n",
    "    arr2[1::2] = arr"
   ]
  },
  {
   "cell_type": "code",
   "execution_count": 3,
   "id": "f147fb9f",
   "metadata": {},
   "outputs": [
    {
     "name": "stdout",
     "output_type": "stream",
     "text": [
      "received #0 block, counter=0d14a7db76ccbbaa\n",
      "received #1 block, counter=0d49b3db76ccbbaa\n",
      "received #2 block, counter=0d7ebfdb76ccbbaa\n",
      "received #3 block, counter=0db3cbdb76ccbbaa\n",
      "received #4 block, counter=0de8d7db76ccbbaa\n",
      "received #5 block, counter=0d1de4db76ccbbaa\n",
      "received #6 block, counter=0d52f0db76ccbbaa\n",
      "received #7 block, counter=0d87fcdb76ccbbaa\n",
      "received #8 block, counter=0dbc08dc76ccbbaa\n",
      "received #9 block, counter=0df114dc76ccbbaa\n",
      "received #10 block, counter=0d2621dc76ccbbaa\n",
      "received #11 block, counter=0d5b2ddc76ccbbaa\n",
      "received #12 block, counter=0d9039dc76ccbbaa\n",
      "received #13 block, counter=0dc545dc76ccbbaa\n",
      "received #14 block, counter=0dfa51dc76ccbbaa\n",
      "received #15 block, counter=0f2f5edc76ccbbaa\n",
      "received #16 block, counter=0f646adc76ccbbaa\n",
      "received #17 block, counter=0f9976dc76ccbbaa\n",
      "received #18 block, counter=0fce82dc76ccbbaa\n",
      "received #19 block, counter=0f038fdc76ccbbaa\n",
      "received #20 block, counter=0f389bdc76ccbbaa\n",
      "received #21 block, counter=0f6da7dc76ccbbaa\n",
      "received #22 block, counter=0fa2b3dc76ccbbaa\n",
      "received #23 block, counter=0fd7bfdc76ccbbaa\n",
      "received #24 block, counter=0f0cccdc76ccbbaa\n",
      "received #25 block, counter=0f41d8dc76ccbbaa\n",
      "received #26 block, counter=0f76e4dc76ccbbaa\n",
      "received #27 block, counter=0fabf0dc76ccbbaa\n",
      "received #28 block, counter=0fe0fcdc76ccbbaa\n",
      "received #29 block, counter=0f1509dd76ccbbaa\n",
      "received #30 block, counter=0f4a15dd76ccbbaa\n",
      "received #31 block, counter=0f7f21dd76ccbbaa\n",
      "number of blocks: 32,  average time per block: 1.0053414553403854s\n"
     ]
    }
   ],
   "source": [
    "with socket.socket(socket.AF_INET, socket.SOCK_STREAM) as s:\n",
    "    s.connect((HOST, PORT))\n",
    "\n",
    "    start = time.time()\n",
    "    for n in range(NBLK):\n",
    "        readBlock(s)\n",
    "        data[n*1000:(n+1)*1000,:,:] = np.frombuffer(buffer2, dtype='float32').reshape((1000, 1024, 16))\n",
    "        print(f'received #{n} block, counter={header[:8].hex()}')\n",
    "    total = time.time() - start\n",
    "\n",
    "print(f'number of blocks: {NBLK},  average time per block: {total / NBLK}s')\n",
    "#print(f'transfer rate: {NBLK*BLK_SIZE*2 / total * 10**(-9)} GB/s')"
   ]
  },
  {
   "cell_type": "code",
   "execution_count": null,
   "id": "2d52086f",
   "metadata": {},
   "outputs": [],
   "source": [
    "header.hex()"
   ]
  },
  {
   "cell_type": "code",
   "execution_count": null,
   "id": "8ba6bf0e",
   "metadata": {},
   "outputs": [],
   "source": [
    "header[:5].hex()"
   ]
  },
  {
   "cell_type": "code",
   "execution_count": null,
   "id": "46dcc3af",
   "metadata": {},
   "outputs": [],
   "source": []
  },
  {
   "cell_type": "code",
   "execution_count": null,
   "id": "637a1f76",
   "metadata": {},
   "outputs": [],
   "source": []
  }
 ],
 "metadata": {
  "kernelspec": {
   "display_name": "Python 3",
   "language": "python",
   "name": "python3"
  },
  "language_info": {
   "codemirror_mode": {
    "name": "ipython",
    "version": 3
   },
   "file_extension": ".py",
   "mimetype": "text/x-python",
   "name": "python",
   "nbconvert_exporter": "python",
   "pygments_lexer": "ipython3",
   "version": "3.6.8"
  }
 },
 "nbformat": 4,
 "nbformat_minor": 5
}
